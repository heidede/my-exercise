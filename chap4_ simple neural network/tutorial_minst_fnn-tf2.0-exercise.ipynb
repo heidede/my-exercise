{
 "cells": [
  {
   "cell_type": "markdown",
   "metadata": {},
   "source": [
    "## 准备数据"
   ]
  },
  {
   "cell_type": "code",
   "execution_count": 1,
   "metadata": {},
   "outputs": [],
   "source": [
    "import os\n",
    "import numpy as np\n",
    "import tensorflow as tf\n",
    "from tensorflow import keras\n",
    "from tensorflow.keras import layers, optimizers, datasets\n",
    "\n",
    "os.environ['TF_CPP_MIN_LOG_LEVEL'] = '2'  # or any {'0', '1', '2'}\n",
    "\n",
    "def mnist_dataset():\n",
    "    (x, y), (x_test, y_test) = datasets.mnist.load_data()\n",
    "    #normalize\n",
    "    x = x/255.0\n",
    "    x_test = x_test/255.0\n",
    "    \n",
    "    return (x, y), (x_test, y_test)"
   ]
  },
  {
   "cell_type": "code",
   "execution_count": 2,
   "metadata": {},
   "outputs": [
    {
     "name": "stdout",
     "output_type": "stream",
     "text": [
      "[(1, 'a'), (2, 'b'), (3, 'c'), (4, 'd')]\n"
     ]
    }
   ],
   "source": [
    "print(list(zip([1, 2, 3, 4], ['a', 'b', 'c', 'd'])))"
   ]
  },
  {
   "cell_type": "markdown",
   "metadata": {},
   "source": [
    "## 建立模型"
   ]
  },
  {
   "cell_type": "code",
   "execution_count": 3,
   "metadata": {},
   "outputs": [],
   "source": [
    "class myModel:\n",
    "    def __init__(self):\n",
    "        self.W1 = tf.Variable(shape=[28*28, 100], dtype=tf.float32,\n",
    "                              initial_value=tf.random.uniform(shape=[28*28, 100], minval=-0.1, maxval=0.1))\n",
    "        self.W2 = tf.Variable(shape=[100, 10], dtype=tf.float32,\n",
    "                              initial_value=tf.random.uniform(shape=[100, 10], minval=-0.1, maxval=0.1))\n",
    "        self.b1 = tf.Variable(shape=[100], dtype=tf.float32, initial_value=tf.zeros(100))\n",
    "        self.b2 = tf.Variable(shape=[10], dtype=tf.float32, initial_value=tf.zeros(10))\n",
    "    def __call__(self, x):\n",
    "        flat_x = tf.reshape(x, shape=[-1, 28*28])\n",
    "        h1 = tf.tanh(tf.matmul(flat_x, self.W1) + self.b1)\n",
    "        logits = tf.matmul(h1, self.W2) + self.b2\n",
    "        return logits\n",
    "        \n",
    "model = myModel()\n",
    "\n",
    "optimizer = optimizers.Adam()"
   ]
  },
  {
   "cell_type": "markdown",
   "metadata": {},
   "source": [
    "## 计算 loss"
   ]
  },
  {
   "cell_type": "code",
   "execution_count": 6,
   "metadata": {},
   "outputs": [],
   "source": [
    "@tf.function\n",
    "def compute_loss(logits, labels):\n",
    "    return tf.reduce_mean(\n",
    "        tf.nn.sparse_softmax_cross_entropy_with_logits(\n",
    "            logits=logits, labels=labels))\n",
    "\n",
    "@tf.function\n",
    "def compute_accuracy(logits, labels):\n",
    "    predictions = tf.argmax(logits, axis=1)\n",
    "    return tf.reduce_mean(tf.cast(tf.equal(predictions, labels), tf.float32))\n",
    "\n",
    "@tf.function\n",
    "def train_one_step(model, optimizer, x, y):\n",
    "    with tf.GradientTape() as tape:\n",
    "        logits = model(x)\n",
    "        loss = compute_loss(logits, y)\n",
    "\n",
    "    # compute gradient\n",
    "    trainable_vars = [model.W1, model.W2, model.b1, model.b2]\n",
    "    grads = tape.gradient(loss, trainable_vars)\n",
    "\n",
    "    optimizer.apply_gradients(zip(grads, trainable_vars))\n",
    "\n",
    "    accuracy = compute_accuracy(logits, y)\n",
    "\n",
    "    # loss and accuracy is scalar tensor\n",
    "    return loss, accuracy\n",
    "\n",
    "@tf.function\n",
    "def test(model, x, y):\n",
    "    logits = model(x)\n",
    "    loss = compute_loss(logits, y)\n",
    "    accuracy = compute_accuracy(logits, y)\n",
    "    return loss, accuracy"
   ]
  },
  {
   "cell_type": "markdown",
   "metadata": {},
   "source": [
    "## 实际训练"
   ]
  },
  {
   "cell_type": "code",
   "execution_count": 7,
   "metadata": {},
   "outputs": [
    {
     "name": "stdout",
     "output_type": "stream",
     "text": [
      "epoch 0 : loss 2.052431 ; accuracy 0.46143332\n",
      "epoch 1 : loss 1.9716214 ; accuracy 0.5181\n",
      "epoch 2 : loss 1.8937765 ; accuracy 0.56378335\n",
      "epoch 3 : loss 1.8187805 ; accuracy 0.60295\n",
      "epoch 4 : loss 1.7465534 ; accuracy 0.63566667\n",
      "epoch 5 : loss 1.6770686 ; accuracy 0.66216666\n",
      "epoch 6 : loss 1.6103569 ; accuracy 0.6844\n",
      "epoch 7 : loss 1.5464838 ; accuracy 0.7024\n",
      "epoch 8 : loss 1.4855217 ; accuracy 0.7163333\n",
      "epoch 9 : loss 1.427523 ; accuracy 0.72755\n",
      "epoch 10 : loss 1.3725008 ; accuracy 0.73686665\n",
      "epoch 11 : loss 1.3204236 ; accuracy 0.74545\n",
      "epoch 12 : loss 1.2712207 ; accuracy 0.754\n",
      "epoch 13 : loss 1.2247914 ; accuracy 0.76245\n",
      "epoch 14 : loss 1.1810154 ; accuracy 0.7704\n",
      "epoch 15 : loss 1.1397597 ; accuracy 0.7781\n",
      "epoch 16 : loss 1.100885 ; accuracy 0.7855333\n",
      "epoch 17 : loss 1.0642495 ; accuracy 0.7921\n",
      "epoch 18 : loss 1.0297107 ; accuracy 0.79803336\n",
      "epoch 19 : loss 0.9971287 ; accuracy 0.80373335\n",
      "epoch 20 : loss 0.9663677 ; accuracy 0.8088\n",
      "epoch 21 : loss 0.93729824 ; accuracy 0.8138\n",
      "epoch 22 : loss 0.9097992 ; accuracy 0.81775\n",
      "epoch 23 : loss 0.8837594 ; accuracy 0.8218167\n",
      "epoch 24 : loss 0.85907805 ; accuracy 0.82568336\n",
      "epoch 25 : loss 0.83566576 ; accuracy 0.8290167\n",
      "epoch 26 : loss 0.8134425 ; accuracy 0.8321667\n",
      "epoch 27 : loss 0.79233706 ; accuracy 0.8346\n",
      "epoch 28 : loss 0.77228457 ; accuracy 0.83765\n",
      "epoch 29 : loss 0.75322527 ; accuracy 0.8401667\n",
      "epoch 30 : loss 0.7351026 ; accuracy 0.84243333\n",
      "epoch 31 : loss 0.71786314 ; accuracy 0.8451833\n",
      "epoch 32 : loss 0.70145595 ; accuracy 0.84775\n",
      "epoch 33 : loss 0.6858331 ; accuracy 0.8498667\n",
      "epoch 34 : loss 0.67094976 ; accuracy 0.8522\n",
      "epoch 35 : loss 0.6567639 ; accuracy 0.8545\n",
      "epoch 36 : loss 0.64323676 ; accuracy 0.8569\n",
      "epoch 37 : loss 0.63033175 ; accuracy 0.85835\n",
      "epoch 38 : loss 0.6180144 ; accuracy 0.8599667\n",
      "epoch 39 : loss 0.6062524 ; accuracy 0.86156666\n",
      "epoch 40 : loss 0.59501505 ; accuracy 0.8635333\n",
      "epoch 41 : loss 0.58427376 ; accuracy 0.8652833\n",
      "epoch 42 : loss 0.57400143 ; accuracy 0.8672\n",
      "epoch 43 : loss 0.56417304 ; accuracy 0.86861664\n",
      "epoch 44 : loss 0.5547649 ; accuracy 0.8700167\n",
      "epoch 45 : loss 0.5457549 ; accuracy 0.87165\n",
      "epoch 46 : loss 0.537122 ; accuracy 0.87305\n",
      "epoch 47 : loss 0.52884644 ; accuracy 0.8743167\n",
      "epoch 48 : loss 0.52090925 ; accuracy 0.8754333\n",
      "epoch 49 : loss 0.5132926 ; accuracy 0.87666667\n",
      "test loss 0.48926356 ; accuracy 0.8859\n"
     ]
    }
   ],
   "source": [
    "train_data, test_data = mnist_dataset()\n",
    "for epoch in range(50):\n",
    "    loss, accuracy = train_one_step(model, optimizer, \n",
    "                                    tf.constant(train_data[0], dtype=tf.float32), \n",
    "                                    tf.constant(train_data[1], dtype=tf.int64))\n",
    "    print('epoch', epoch, ': loss', loss.numpy(), '; accuracy', accuracy.numpy())\n",
    "loss, accuracy = test(model, \n",
    "                      tf.constant(test_data[0], dtype=tf.float32), \n",
    "                      tf.constant(test_data[1], dtype=tf.int64))\n",
    "\n",
    "print('test loss', loss.numpy(), '; accuracy', accuracy.numpy())"
   ]
  }
 ],
 "metadata": {
  "kernelspec": {
   "display_name": "Python 3",
   "language": "python",
   "name": "python3"
  },
  "language_info": {
   "codemirror_mode": {
    "name": "ipython",
    "version": 3
   },
   "file_extension": ".py",
   "mimetype": "text/x-python",
   "name": "python",
   "nbconvert_exporter": "python",
   "pygments_lexer": "ipython3",
   "version": "3.10.5"
  }
 },
 "nbformat": 4,
 "nbformat_minor": 2
}
